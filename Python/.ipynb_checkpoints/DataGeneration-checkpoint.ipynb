{
 "cells": [
  {
   "cell_type": "code",
   "execution_count": 1,
   "id": "f055010a",
   "metadata": {},
   "outputs": [],
   "source": [
    "import pandas as pd\n",
    "import os"
   ]
  },
  {
   "cell_type": "code",
   "execution_count": 2,
   "id": "c1266aad",
   "metadata": {},
   "outputs": [],
   "source": [
    "df = pd.read_csv(\"NodeGeneration\\\\Data.csv\")"
   ]
  },
  {
   "cell_type": "code",
   "execution_count": 3,
   "id": "21f50010",
   "metadata": {},
   "outputs": [],
   "source": [
    "dataNumbers = [10, 20, 30, 40, 50]\n",
    "\n",
    "for n in dataNumbers:\n",
    "    for i in range(1, 6):\n",
    "        fileFolder = \"NodeGeneration\\\\Data_{n}\"\n",
    "        fileFolder = fileFolder.format(n = n)\n",
    "\n",
    "        fileLocation = \"NodeGeneration\\\\Data_{n}\\\\Data_{n}_{i}.csv\"\n",
    "        fileLocation = fileLocation.format(n = n, i = i)\n",
    "\n",
    "        if(not os.path.exists(fileFolder)):\n",
    "            os.makedirs(fileFolder)\n",
    "\n",
    "        df.sample(n).to_csv(fileLocation, index=False)"
   ]
  },
  {
   "cell_type": "code",
   "execution_count": null,
   "id": "2a92fd6a",
   "metadata": {},
   "outputs": [],
   "source": []
  }
 ],
 "metadata": {
  "kernelspec": {
   "display_name": "Python 3 (ipykernel)",
   "language": "python",
   "name": "python3"
  },
  "language_info": {
   "codemirror_mode": {
    "name": "ipython",
    "version": 3
   },
   "file_extension": ".py",
   "mimetype": "text/x-python",
   "name": "python",
   "nbconvert_exporter": "python",
   "pygments_lexer": "ipython3",
   "version": "3.8.8"
  }
 },
 "nbformat": 4,
 "nbformat_minor": 5
}
