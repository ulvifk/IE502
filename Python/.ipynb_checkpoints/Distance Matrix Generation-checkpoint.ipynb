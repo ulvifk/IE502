{
 "cells": [
  {
   "cell_type": "code",
   "execution_count": 1,
   "id": "c0b7c51d",
   "metadata": {},
   "outputs": [],
   "source": [
    "import openrouteservice as ors\n",
    "import folium\n",
    "import pandas as pd"
   ]
  },
  {
   "cell_type": "code",
   "execution_count": null,
   "id": "b3e96379",
   "metadata": {},
   "outputs": [],
   "source": [
    "def generateDistanceMatrixes(readLocation, writeFolder, writeLocation):\n",
    "    nodes = pd.read_csv(readLocation)\n",
    "    client = ors.Client(key='5b3ce3597851110001cf6248facc383c642b420fa9818331b313169e')\n",
    "    \n",
    "    coordinates = []\n",
    "\n",
    "    for index, row in nodes.iterrows():\n",
    "        coordinate = (row[\"xcoord\"], row[\"ycoord\"])\n",
    "        coordinates.append(coordinate)\n",
    "    distanceMatrix = client.distance_matrix(locations = coordinates, metrics = [\"distance\", \"duration\"])\n",
    "    \n",
    "    columns = []\n",
    "    rows = []\n",
    "\n",
    "    for index, row in nodes.iterrows():\n",
    "        columns.append(index)\n",
    "        rows.append(index)\n",
    "    \n",
    "    distanceDataFrame = pd.DataFrame(distanceMatrix[\"durations\"], columns = columns, index = rows)\n",
    "    \n",
    "    # If folder does not exist, create one\n",
    "    if(not os.path.exists(writeFolder)):\n",
    "            os.makedirs(writeFolder)\n",
    "    \n",
    "    # Write to location\n",
    "    distanceDataFrame.to_csv(writeLocation)"
   ]
  },
  {
   "cell_type": "code",
   "execution_count": null,
   "id": "a078a969",
   "metadata": {},
   "outputs": [],
   "source": [
    "dataNumbers = [10, 20, 40, 80]\n",
    "\n",
    "for n in dataNumbers:\n",
    "    for i in range(1, 6):\n",
    "        readLocation = \"JavaData\\\\Data_{n}\\\\Data_{n}_{i}.csv\"\n",
    "        readLocation = readLocation.format(n = n, i = i)\n",
    "\n",
    "        writeFolder = \"JavaData\\\\Data_{n}\"\n",
    "        writeFolder = writeFolder.format(n = n)\n",
    "\n",
    "        writeLocation = \"JavaData\\\\Data_{n}\\\\Data_{n}_{i}_DistanceMatrix.csv\"\n",
    "        writeLocation = writeLocation.format(n = n, i = i)\n",
    "\n",
    "        generateTypes(readLocation, writeFolder, writeLocation)"
   ]
  }
 ],
 "metadata": {
  "kernelspec": {
   "display_name": "Python 3 (ipykernel)",
   "language": "python",
   "name": "python3"
  },
  "language_info": {
   "codemirror_mode": {
    "name": "ipython",
    "version": 3
   },
   "file_extension": ".py",
   "mimetype": "text/x-python",
   "name": "python",
   "nbconvert_exporter": "python",
   "pygments_lexer": "ipython3",
   "version": "3.8.8"
  }
 },
 "nbformat": 4,
 "nbformat_minor": 5
}
