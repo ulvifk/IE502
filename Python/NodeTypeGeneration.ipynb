{
 "cells": [
  {
   "cell_type": "code",
   "execution_count": 1,
   "id": "ce638d58",
   "metadata": {},
   "outputs": [],
   "source": [
    "import pandas as pd\n",
    "import os\n",
    "import random"
   ]
  },
  {
   "cell_type": "code",
   "execution_count": 2,
   "id": "5de7c0f8",
   "metadata": {
    "scrolled": true
   },
   "outputs": [],
   "source": [
    "def generateTypes(readLocation, writeFolder, writeLocation):\n",
    "    nodes = pd.read_csv(readLocation)\n",
    "    # Random UAV eligiblity\n",
    "    nodes[\"Type\"] = \"\"\n",
    "    uavChance = 0.8\n",
    "    nodes.at[0, \"Type\"] = \"TRUCK\"\n",
    "\n",
    "    for i in range(1, nodes.shape[0]):\n",
    "        if(random.random() < uavChance):\n",
    "            nodes.at[i, \"Type\"] = \"UAVELIGIBLE\"\n",
    "        else:\n",
    "            nodes.at[i, \"Type\"] = \"TRUCK\"\n",
    "\n",
    "    # Random parcel volume\n",
    "    nodes[\"ParcelVolume\"] = \"\"\n",
    "    nodes.at[0, \"ParcelVolume\"] = 0\n",
    "\n",
    "    uavA = 1\n",
    "    uavC = 2\n",
    "    uavB = 3\n",
    "\n",
    "    truckA = 3\n",
    "    truckC = 5\n",
    "    truckB = 9\n",
    "\n",
    "    for i in range(1, nodes.shape[0]):\n",
    "        if(nodes.at[i, \"Type\"] == \"UAVELIGIBLE\"):\n",
    "            nodes.at[i, \"ParcelVolume\"] = random.triangular(uavA, uavB, uavC)\n",
    "        else:\n",
    "            nodes.at[i, \"ParcelVolume\"] = random.triangular(truckA, truckB, truckC)        \n",
    "\n",
    "    nodes = nodes.append(nodes.loc[0], ignore_index = True)\n",
    "    \n",
    "    # If folder does not exist, create one\n",
    "    if(not os.path.exists(writeFolder)):\n",
    "            os.makedirs(writeFolder)\n",
    "    \n",
    "    # Write to locatin\n",
    "    nodes.to_csv(writeLocation)\n",
    "    nodes"
   ]
  },
  {
   "cell_type": "code",
   "execution_count": 3,
   "id": "dfbeec6d",
   "metadata": {},
   "outputs": [],
   "source": [
    "dataNumbers = [10, 20, 30, 40, 50, 60, 70, 80]\n",
    "\n",
    "for n in dataNumbers:\n",
    "    for i in range(1, 6):\n",
    "        readLocation = \"NodeGeneration\\\\Data_{n}\\\\Data_{n}_{i}.csv\"\n",
    "        readLocation = readLocation.format(n = n, i = i)\n",
    "\n",
    "        writeFolder = \"JavaData\\\\Data_{n}\"\n",
    "        writeFolder = writeFolder.format(n = n)\n",
    "\n",
    "        writeLocation = \"JavaData\\\\Data_{n}\\\\Data_{n}_{i}.csv\"\n",
    "        writeLocation = writeLocation.format(n = n, i = i)\n",
    "\n",
    "        generateTypes(readLocation, writeFolder, writeLocation)\n"
   ]
  },
  {
   "cell_type": "code",
   "execution_count": null,
   "id": "e80cc3f1",
   "metadata": {},
   "outputs": [],
   "source": []
  }
 ],
 "metadata": {
  "kernelspec": {
   "display_name": "Python 3 (ipykernel)",
   "language": "python",
   "name": "python3"
  },
  "language_info": {
   "codemirror_mode": {
    "name": "ipython",
    "version": 3
   },
   "file_extension": ".py",
   "mimetype": "text/x-python",
   "name": "python",
   "nbconvert_exporter": "python",
   "pygments_lexer": "ipython3",
   "version": "3.8.8"
  }
 },
 "nbformat": 4,
 "nbformat_minor": 5
}
