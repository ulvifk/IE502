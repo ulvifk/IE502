{
 "cells": [
  {
   "cell_type": "code",
   "execution_count": 1,
   "id": "c0b7c51d",
   "metadata": {},
   "outputs": [],
   "source": [
    "import openrouteservice as ors\n",
    "import os\n",
    "import folium\n",
    "import pandas as pd"
   ]
  },
  {
   "cell_type": "code",
   "execution_count": 2,
   "id": "f4bbe4de",
   "metadata": {},
   "outputs": [],
   "source": [
    "def generateDistanceMatrix(readLocation, writeFolder, writeLocation):\n",
    "    nodes = pd.read_csv(readLocation)\n",
    "    client = ors.Client(key='5b3ce3597851110001cf6248facc383c642b420fa9818331b313169e')\n",
    "    \n",
    "    coordinates = []\n",
    "\n",
    "    for index, row in nodes.iterrows():\n",
    "        coordinate = (row[\"xcoord\"], row[\"ycoord\"])\n",
    "        coordinates.append(coordinate)\n",
    "    distanceMatrix = client.distance_matrix(locations = coordinates, metrics = [\"distance\", \"duration\"])\n",
    "    \n",
    "    columns = []\n",
    "    rows = []\n",
    "\n",
    "    for index, row in nodes.iterrows():\n",
    "        columns.append(index)\n",
    "        rows.append(index)\n",
    "    \n",
    "    distanceDataFrame = pd.DataFrame(distanceMatrix[\"durations\"], columns = columns, index = rows)\n",
    "    \n",
    "    # If folder does not exist, create one\n",
    "    if(not os.path.exists(writeFolder)):\n",
    "            os.makedirs(writeFolder)\n",
    "    \n",
    "    # Write to location\n",
    "    distanceDataFrame.to_csv(writeLocation)"
   ]
  },
  {
   "cell_type": "code",
   "execution_count": 3,
   "id": "a078a969",
   "metadata": {
    "scrolled": false
   },
   "outputs": [
    {
     "name": "stderr",
     "output_type": "stream",
     "text": [
      "c:\\users\\ulvif\\appdata\\local\\programs\\python\\python38\\lib\\site-packages\\openrouteservice\\client.py:211: UserWarning: Rate limit exceeded. Retrying for the 1st time.\n",
      "  warnings.warn('Rate limit exceeded. Retrying for the {0}{1} time.'.format(retry_counter + 1,\n",
      "c:\\users\\ulvif\\appdata\\local\\programs\\python\\python38\\lib\\site-packages\\openrouteservice\\client.py:211: UserWarning: Rate limit exceeded. Retrying for the 2nd time.\n",
      "  warnings.warn('Rate limit exceeded. Retrying for the {0}{1} time.'.format(retry_counter + 1,\n",
      "c:\\users\\ulvif\\appdata\\local\\programs\\python\\python38\\lib\\site-packages\\openrouteservice\\client.py:211: UserWarning: Rate limit exceeded. Retrying for the 3rd time.\n",
      "  warnings.warn('Rate limit exceeded. Retrying for the {0}{1} time.'.format(retry_counter + 1,\n"
     ]
    },
    {
     "ename": "ApiError",
     "evalue": "400 ({'error': {'code': 6004, 'message': 'Request parameters exceed the server configuration limits. Only a total of 3500 routes are allowed.'}, 'info': {'engine': {'version': '6.7.0', 'build_date': '2022-02-18T19:37:41Z'}, 'timestamp': 1648831442395}})",
     "output_type": "error",
     "traceback": [
      "\u001b[1;31m---------------------------------------------------------------------------\u001b[0m",
      "\u001b[1;31m_OverQueryLimit\u001b[0m                           Traceback (most recent call last)",
      "\u001b[1;32mc:\\users\\ulvif\\appdata\\local\\programs\\python\\python38\\lib\\site-packages\\openrouteservice\\client.py\u001b[0m in \u001b[0;36mrequest\u001b[1;34m(self, url, get_params, first_request_time, retry_counter, requests_kwargs, post_json, dry_run)\u001b[0m\n\u001b[0;32m    203\u001b[0m         \u001b[1;32mtry\u001b[0m\u001b[1;33m:\u001b[0m\u001b[1;33m\u001b[0m\u001b[1;33m\u001b[0m\u001b[0m\n\u001b[1;32m--> 204\u001b[1;33m             \u001b[0mresult\u001b[0m \u001b[1;33m=\u001b[0m \u001b[0mself\u001b[0m\u001b[1;33m.\u001b[0m\u001b[0m_get_body\u001b[0m\u001b[1;33m(\u001b[0m\u001b[0mresponse\u001b[0m\u001b[1;33m)\u001b[0m\u001b[1;33m\u001b[0m\u001b[1;33m\u001b[0m\u001b[0m\n\u001b[0m\u001b[0;32m    205\u001b[0m \u001b[1;33m\u001b[0m\u001b[0m\n",
      "\u001b[1;32mc:\\users\\ulvif\\appdata\\local\\programs\\python\\python38\\lib\\site-packages\\openrouteservice\\client.py\u001b[0m in \u001b[0;36m_get_body\u001b[1;34m(response)\u001b[0m\n\u001b[0;32m    236\u001b[0m         \u001b[1;32mif\u001b[0m \u001b[0mstatus_code\u001b[0m \u001b[1;33m==\u001b[0m \u001b[1;36m429\u001b[0m\u001b[1;33m:\u001b[0m\u001b[1;33m\u001b[0m\u001b[1;33m\u001b[0m\u001b[0m\n\u001b[1;32m--> 237\u001b[1;33m             raise exceptions._OverQueryLimit(\n\u001b[0m\u001b[0;32m    238\u001b[0m                 \u001b[0mstatus_code\u001b[0m\u001b[1;33m,\u001b[0m\u001b[1;33m\u001b[0m\u001b[1;33m\u001b[0m\u001b[0m\n",
      "\u001b[1;31m_OverQueryLimit\u001b[0m: 429 ({'error': 'There has been an unexpected error, please make sure your request is formatted correctly and you have provided your API token.'})",
      "\nDuring handling of the above exception, another exception occurred:\n",
      "\u001b[1;31m_OverQueryLimit\u001b[0m                           Traceback (most recent call last)",
      "\u001b[1;32mc:\\users\\ulvif\\appdata\\local\\programs\\python\\python38\\lib\\site-packages\\openrouteservice\\client.py\u001b[0m in \u001b[0;36mrequest\u001b[1;34m(self, url, get_params, first_request_time, retry_counter, requests_kwargs, post_json, dry_run)\u001b[0m\n\u001b[0;32m    203\u001b[0m         \u001b[1;32mtry\u001b[0m\u001b[1;33m:\u001b[0m\u001b[1;33m\u001b[0m\u001b[1;33m\u001b[0m\u001b[0m\n\u001b[1;32m--> 204\u001b[1;33m             \u001b[0mresult\u001b[0m \u001b[1;33m=\u001b[0m \u001b[0mself\u001b[0m\u001b[1;33m.\u001b[0m\u001b[0m_get_body\u001b[0m\u001b[1;33m(\u001b[0m\u001b[0mresponse\u001b[0m\u001b[1;33m)\u001b[0m\u001b[1;33m\u001b[0m\u001b[1;33m\u001b[0m\u001b[0m\n\u001b[0m\u001b[0;32m    205\u001b[0m \u001b[1;33m\u001b[0m\u001b[0m\n",
      "\u001b[1;32mc:\\users\\ulvif\\appdata\\local\\programs\\python\\python38\\lib\\site-packages\\openrouteservice\\client.py\u001b[0m in \u001b[0;36m_get_body\u001b[1;34m(response)\u001b[0m\n\u001b[0;32m    236\u001b[0m         \u001b[1;32mif\u001b[0m \u001b[0mstatus_code\u001b[0m \u001b[1;33m==\u001b[0m \u001b[1;36m429\u001b[0m\u001b[1;33m:\u001b[0m\u001b[1;33m\u001b[0m\u001b[1;33m\u001b[0m\u001b[0m\n\u001b[1;32m--> 237\u001b[1;33m             raise exceptions._OverQueryLimit(\n\u001b[0m\u001b[0;32m    238\u001b[0m                 \u001b[0mstatus_code\u001b[0m\u001b[1;33m,\u001b[0m\u001b[1;33m\u001b[0m\u001b[1;33m\u001b[0m\u001b[0m\n",
      "\u001b[1;31m_OverQueryLimit\u001b[0m: 429 ({'error': 'There has been an unexpected error, please make sure your request is formatted correctly and you have provided your API token.'})",
      "\nDuring handling of the above exception, another exception occurred:\n",
      "\u001b[1;31m_OverQueryLimit\u001b[0m                           Traceback (most recent call last)",
      "\u001b[1;32mc:\\users\\ulvif\\appdata\\local\\programs\\python\\python38\\lib\\site-packages\\openrouteservice\\client.py\u001b[0m in \u001b[0;36mrequest\u001b[1;34m(self, url, get_params, first_request_time, retry_counter, requests_kwargs, post_json, dry_run)\u001b[0m\n\u001b[0;32m    203\u001b[0m         \u001b[1;32mtry\u001b[0m\u001b[1;33m:\u001b[0m\u001b[1;33m\u001b[0m\u001b[1;33m\u001b[0m\u001b[0m\n\u001b[1;32m--> 204\u001b[1;33m             \u001b[0mresult\u001b[0m \u001b[1;33m=\u001b[0m \u001b[0mself\u001b[0m\u001b[1;33m.\u001b[0m\u001b[0m_get_body\u001b[0m\u001b[1;33m(\u001b[0m\u001b[0mresponse\u001b[0m\u001b[1;33m)\u001b[0m\u001b[1;33m\u001b[0m\u001b[1;33m\u001b[0m\u001b[0m\n\u001b[0m\u001b[0;32m    205\u001b[0m \u001b[1;33m\u001b[0m\u001b[0m\n",
      "\u001b[1;32mc:\\users\\ulvif\\appdata\\local\\programs\\python\\python38\\lib\\site-packages\\openrouteservice\\client.py\u001b[0m in \u001b[0;36m_get_body\u001b[1;34m(response)\u001b[0m\n\u001b[0;32m    236\u001b[0m         \u001b[1;32mif\u001b[0m \u001b[0mstatus_code\u001b[0m \u001b[1;33m==\u001b[0m \u001b[1;36m429\u001b[0m\u001b[1;33m:\u001b[0m\u001b[1;33m\u001b[0m\u001b[1;33m\u001b[0m\u001b[0m\n\u001b[1;32m--> 237\u001b[1;33m             raise exceptions._OverQueryLimit(\n\u001b[0m\u001b[0;32m    238\u001b[0m                 \u001b[0mstatus_code\u001b[0m\u001b[1;33m,\u001b[0m\u001b[1;33m\u001b[0m\u001b[1;33m\u001b[0m\u001b[0m\n",
      "\u001b[1;31m_OverQueryLimit\u001b[0m: 429 ({'error': 'There has been an unexpected error, please make sure your request is formatted correctly and you have provided your API token.'})",
      "\nDuring handling of the above exception, another exception occurred:\n",
      "\u001b[1;31mApiError\u001b[0m                                  Traceback (most recent call last)",
      "\u001b[1;32m~\\AppData\\Local\\Temp/ipykernel_17404/1264334766.py\u001b[0m in \u001b[0;36m<module>\u001b[1;34m\u001b[0m\n\u001b[0;32m     12\u001b[0m         \u001b[0mwriteLocation\u001b[0m \u001b[1;33m=\u001b[0m \u001b[0mwriteLocation\u001b[0m\u001b[1;33m.\u001b[0m\u001b[0mformat\u001b[0m\u001b[1;33m(\u001b[0m\u001b[0mn\u001b[0m \u001b[1;33m=\u001b[0m \u001b[0mn\u001b[0m\u001b[1;33m,\u001b[0m \u001b[0mi\u001b[0m \u001b[1;33m=\u001b[0m \u001b[0mi\u001b[0m\u001b[1;33m)\u001b[0m\u001b[1;33m\u001b[0m\u001b[1;33m\u001b[0m\u001b[0m\n\u001b[0;32m     13\u001b[0m \u001b[1;33m\u001b[0m\u001b[0m\n\u001b[1;32m---> 14\u001b[1;33m         \u001b[0mgenerateDistanceMatrix\u001b[0m\u001b[1;33m(\u001b[0m\u001b[0mreadLocation\u001b[0m\u001b[1;33m,\u001b[0m \u001b[0mwriteFolder\u001b[0m\u001b[1;33m,\u001b[0m \u001b[0mwriteLocation\u001b[0m\u001b[1;33m)\u001b[0m\u001b[1;33m\u001b[0m\u001b[1;33m\u001b[0m\u001b[0m\n\u001b[0m",
      "\u001b[1;32m~\\AppData\\Local\\Temp/ipykernel_17404/3661362689.py\u001b[0m in \u001b[0;36mgenerateDistanceMatrix\u001b[1;34m(readLocation, writeFolder, writeLocation)\u001b[0m\n\u001b[0;32m      8\u001b[0m         \u001b[0mcoordinate\u001b[0m \u001b[1;33m=\u001b[0m \u001b[1;33m(\u001b[0m\u001b[0mrow\u001b[0m\u001b[1;33m[\u001b[0m\u001b[1;34m\"xcoord\"\u001b[0m\u001b[1;33m]\u001b[0m\u001b[1;33m,\u001b[0m \u001b[0mrow\u001b[0m\u001b[1;33m[\u001b[0m\u001b[1;34m\"ycoord\"\u001b[0m\u001b[1;33m]\u001b[0m\u001b[1;33m)\u001b[0m\u001b[1;33m\u001b[0m\u001b[1;33m\u001b[0m\u001b[0m\n\u001b[0;32m      9\u001b[0m         \u001b[0mcoordinates\u001b[0m\u001b[1;33m.\u001b[0m\u001b[0mappend\u001b[0m\u001b[1;33m(\u001b[0m\u001b[0mcoordinate\u001b[0m\u001b[1;33m)\u001b[0m\u001b[1;33m\u001b[0m\u001b[1;33m\u001b[0m\u001b[0m\n\u001b[1;32m---> 10\u001b[1;33m     \u001b[0mdistanceMatrix\u001b[0m \u001b[1;33m=\u001b[0m \u001b[0mclient\u001b[0m\u001b[1;33m.\u001b[0m\u001b[0mdistance_matrix\u001b[0m\u001b[1;33m(\u001b[0m\u001b[0mlocations\u001b[0m \u001b[1;33m=\u001b[0m \u001b[0mcoordinates\u001b[0m\u001b[1;33m,\u001b[0m \u001b[0mmetrics\u001b[0m \u001b[1;33m=\u001b[0m \u001b[1;33m[\u001b[0m\u001b[1;34m\"distance\"\u001b[0m\u001b[1;33m,\u001b[0m \u001b[1;34m\"duration\"\u001b[0m\u001b[1;33m]\u001b[0m\u001b[1;33m)\u001b[0m\u001b[1;33m\u001b[0m\u001b[1;33m\u001b[0m\u001b[0m\n\u001b[0m\u001b[0;32m     11\u001b[0m \u001b[1;33m\u001b[0m\u001b[0m\n\u001b[0;32m     12\u001b[0m     \u001b[0mcolumns\u001b[0m \u001b[1;33m=\u001b[0m \u001b[1;33m[\u001b[0m\u001b[1;33m]\u001b[0m\u001b[1;33m\u001b[0m\u001b[1;33m\u001b[0m\u001b[0m\n",
      "\u001b[1;32mc:\\users\\ulvif\\appdata\\local\\programs\\python\\python38\\lib\\site-packages\\openrouteservice\\client.py\u001b[0m in \u001b[0;36mwrapper\u001b[1;34m(*args, **kwargs)\u001b[0m\n\u001b[0;32m    297\u001b[0m     \u001b[1;32mdef\u001b[0m \u001b[0mwrapper\u001b[0m\u001b[1;33m(\u001b[0m\u001b[1;33m*\u001b[0m\u001b[0margs\u001b[0m\u001b[1;33m,\u001b[0m \u001b[1;33m**\u001b[0m\u001b[0mkwargs\u001b[0m\u001b[1;33m)\u001b[0m\u001b[1;33m:\u001b[0m\u001b[1;33m\u001b[0m\u001b[1;33m\u001b[0m\u001b[0m\n\u001b[0;32m    298\u001b[0m         \u001b[0margs\u001b[0m\u001b[1;33m[\u001b[0m\u001b[1;36m0\u001b[0m\u001b[1;33m]\u001b[0m\u001b[1;33m.\u001b[0m\u001b[0m_extra_params\u001b[0m \u001b[1;33m=\u001b[0m \u001b[0mkwargs\u001b[0m\u001b[1;33m.\u001b[0m\u001b[0mpop\u001b[0m\u001b[1;33m(\u001b[0m\u001b[1;34m\"extra_params\"\u001b[0m\u001b[1;33m,\u001b[0m \u001b[1;32mNone\u001b[0m\u001b[1;33m)\u001b[0m\u001b[1;33m\u001b[0m\u001b[1;33m\u001b[0m\u001b[0m\n\u001b[1;32m--> 299\u001b[1;33m         \u001b[0mresult\u001b[0m \u001b[1;33m=\u001b[0m \u001b[0mfunc\u001b[0m\u001b[1;33m(\u001b[0m\u001b[1;33m*\u001b[0m\u001b[0margs\u001b[0m\u001b[1;33m,\u001b[0m \u001b[1;33m**\u001b[0m\u001b[0mkwargs\u001b[0m\u001b[1;33m)\u001b[0m\u001b[1;33m\u001b[0m\u001b[1;33m\u001b[0m\u001b[0m\n\u001b[0m\u001b[0;32m    300\u001b[0m         \u001b[1;32mtry\u001b[0m\u001b[1;33m:\u001b[0m\u001b[1;33m\u001b[0m\u001b[1;33m\u001b[0m\u001b[0m\n\u001b[0;32m    301\u001b[0m             \u001b[1;32mdel\u001b[0m \u001b[0margs\u001b[0m\u001b[1;33m[\u001b[0m\u001b[1;36m0\u001b[0m\u001b[1;33m]\u001b[0m\u001b[1;33m.\u001b[0m\u001b[0m_extra_params\u001b[0m\u001b[1;33m\u001b[0m\u001b[1;33m\u001b[0m\u001b[0m\n",
      "\u001b[1;32mc:\\users\\ulvif\\appdata\\local\\programs\\python\\python38\\lib\\site-packages\\openrouteservice\\distance_matrix.py\u001b[0m in \u001b[0;36mdistance_matrix\u001b[1;34m(client, locations, profile, sources, destinations, metrics, resolve_locations, units, optimized, validate, dry_run)\u001b[0m\n\u001b[0;32m    114\u001b[0m         \u001b[0mparams\u001b[0m\u001b[1;33m[\u001b[0m\u001b[1;34m\"optimized\"\u001b[0m\u001b[1;33m]\u001b[0m \u001b[1;33m=\u001b[0m \u001b[0moptimized\u001b[0m\u001b[1;33m\u001b[0m\u001b[1;33m\u001b[0m\u001b[0m\n\u001b[0;32m    115\u001b[0m \u001b[1;33m\u001b[0m\u001b[0m\n\u001b[1;32m--> 116\u001b[1;33m     \u001b[1;32mreturn\u001b[0m \u001b[0mclient\u001b[0m\u001b[1;33m.\u001b[0m\u001b[0mrequest\u001b[0m\u001b[1;33m(\u001b[0m\u001b[1;34m\"/v2/matrix/\"\u001b[0m \u001b[1;33m+\u001b[0m \u001b[0mprofile\u001b[0m \u001b[1;33m+\u001b[0m \u001b[1;34m'/json'\u001b[0m\u001b[1;33m,\u001b[0m \u001b[1;33m{\u001b[0m\u001b[1;33m}\u001b[0m\u001b[1;33m,\u001b[0m \u001b[0mpost_json\u001b[0m\u001b[1;33m=\u001b[0m\u001b[0mparams\u001b[0m\u001b[1;33m,\u001b[0m \u001b[0mdry_run\u001b[0m\u001b[1;33m=\u001b[0m\u001b[0mdry_run\u001b[0m\u001b[1;33m)\u001b[0m\u001b[1;33m\u001b[0m\u001b[1;33m\u001b[0m\u001b[0m\n\u001b[0m",
      "\u001b[1;32mc:\\users\\ulvif\\appdata\\local\\programs\\python\\python38\\lib\\site-packages\\openrouteservice\\client.py\u001b[0m in \u001b[0;36mrequest\u001b[1;34m(self, url, get_params, first_request_time, retry_counter, requests_kwargs, post_json, dry_run)\u001b[0m\n\u001b[0;32m    214\u001b[0m                           stacklevel=1)\n\u001b[0;32m    215\u001b[0m             \u001b[1;31m# Retry request.\u001b[0m\u001b[1;33m\u001b[0m\u001b[1;33m\u001b[0m\u001b[1;33m\u001b[0m\u001b[0m\n\u001b[1;32m--> 216\u001b[1;33m             return self.request(url, get_params, first_request_time,\n\u001b[0m\u001b[0;32m    217\u001b[0m                                 \u001b[0mretry_counter\u001b[0m \u001b[1;33m+\u001b[0m \u001b[1;36m1\u001b[0m\u001b[1;33m,\u001b[0m \u001b[0mrequests_kwargs\u001b[0m\u001b[1;33m,\u001b[0m\u001b[1;33m\u001b[0m\u001b[1;33m\u001b[0m\u001b[0m\n\u001b[0;32m    218\u001b[0m                                 post_json)\n",
      "\u001b[1;32mc:\\users\\ulvif\\appdata\\local\\programs\\python\\python38\\lib\\site-packages\\openrouteservice\\client.py\u001b[0m in \u001b[0;36mrequest\u001b[1;34m(self, url, get_params, first_request_time, retry_counter, requests_kwargs, post_json, dry_run)\u001b[0m\n\u001b[0;32m    214\u001b[0m                           stacklevel=1)\n\u001b[0;32m    215\u001b[0m             \u001b[1;31m# Retry request.\u001b[0m\u001b[1;33m\u001b[0m\u001b[1;33m\u001b[0m\u001b[1;33m\u001b[0m\u001b[0m\n\u001b[1;32m--> 216\u001b[1;33m             return self.request(url, get_params, first_request_time,\n\u001b[0m\u001b[0;32m    217\u001b[0m                                 \u001b[0mretry_counter\u001b[0m \u001b[1;33m+\u001b[0m \u001b[1;36m1\u001b[0m\u001b[1;33m,\u001b[0m \u001b[0mrequests_kwargs\u001b[0m\u001b[1;33m,\u001b[0m\u001b[1;33m\u001b[0m\u001b[1;33m\u001b[0m\u001b[0m\n\u001b[0;32m    218\u001b[0m                                 post_json)\n",
      "\u001b[1;32mc:\\users\\ulvif\\appdata\\local\\programs\\python\\python38\\lib\\site-packages\\openrouteservice\\client.py\u001b[0m in \u001b[0;36mrequest\u001b[1;34m(self, url, get_params, first_request_time, retry_counter, requests_kwargs, post_json, dry_run)\u001b[0m\n\u001b[0;32m    214\u001b[0m                           stacklevel=1)\n\u001b[0;32m    215\u001b[0m             \u001b[1;31m# Retry request.\u001b[0m\u001b[1;33m\u001b[0m\u001b[1;33m\u001b[0m\u001b[1;33m\u001b[0m\u001b[0m\n\u001b[1;32m--> 216\u001b[1;33m             return self.request(url, get_params, first_request_time,\n\u001b[0m\u001b[0;32m    217\u001b[0m                                 \u001b[0mretry_counter\u001b[0m \u001b[1;33m+\u001b[0m \u001b[1;36m1\u001b[0m\u001b[1;33m,\u001b[0m \u001b[0mrequests_kwargs\u001b[0m\u001b[1;33m,\u001b[0m\u001b[1;33m\u001b[0m\u001b[1;33m\u001b[0m\u001b[0m\n\u001b[0;32m    218\u001b[0m                                 post_json)\n",
      "\u001b[1;32mc:\\users\\ulvif\\appdata\\local\\programs\\python\\python38\\lib\\site-packages\\openrouteservice\\client.py\u001b[0m in \u001b[0;36mrequest\u001b[1;34m(self, url, get_params, first_request_time, retry_counter, requests_kwargs, post_json, dry_run)\u001b[0m\n\u001b[0;32m    202\u001b[0m \u001b[1;33m\u001b[0m\u001b[0m\n\u001b[0;32m    203\u001b[0m         \u001b[1;32mtry\u001b[0m\u001b[1;33m:\u001b[0m\u001b[1;33m\u001b[0m\u001b[1;33m\u001b[0m\u001b[0m\n\u001b[1;32m--> 204\u001b[1;33m             \u001b[0mresult\u001b[0m \u001b[1;33m=\u001b[0m \u001b[0mself\u001b[0m\u001b[1;33m.\u001b[0m\u001b[0m_get_body\u001b[0m\u001b[1;33m(\u001b[0m\u001b[0mresponse\u001b[0m\u001b[1;33m)\u001b[0m\u001b[1;33m\u001b[0m\u001b[1;33m\u001b[0m\u001b[0m\n\u001b[0m\u001b[0;32m    205\u001b[0m \u001b[1;33m\u001b[0m\u001b[0m\n\u001b[0;32m    206\u001b[0m             \u001b[1;32mreturn\u001b[0m \u001b[0mresult\u001b[0m\u001b[1;33m\u001b[0m\u001b[1;33m\u001b[0m\u001b[0m\n",
      "\u001b[1;32mc:\\users\\ulvif\\appdata\\local\\programs\\python\\python38\\lib\\site-packages\\openrouteservice\\client.py\u001b[0m in \u001b[0;36m_get_body\u001b[1;34m(response)\u001b[0m\n\u001b[0;32m    240\u001b[0m             )\n\u001b[0;32m    241\u001b[0m         \u001b[1;32mif\u001b[0m \u001b[0mstatus_code\u001b[0m \u001b[1;33m!=\u001b[0m \u001b[1;36m200\u001b[0m\u001b[1;33m:\u001b[0m\u001b[1;33m\u001b[0m\u001b[1;33m\u001b[0m\u001b[0m\n\u001b[1;32m--> 242\u001b[1;33m             raise exceptions.ApiError(\n\u001b[0m\u001b[0;32m    243\u001b[0m                 \u001b[0mstatus_code\u001b[0m\u001b[1;33m,\u001b[0m\u001b[1;33m\u001b[0m\u001b[1;33m\u001b[0m\u001b[0m\n\u001b[0;32m    244\u001b[0m                 \u001b[0mbody\u001b[0m\u001b[1;33m\u001b[0m\u001b[1;33m\u001b[0m\u001b[0m\n",
      "\u001b[1;31mApiError\u001b[0m: 400 ({'error': {'code': 6004, 'message': 'Request parameters exceed the server configuration limits. Only a total of 3500 routes are allowed.'}, 'info': {'engine': {'version': '6.7.0', 'build_date': '2022-02-18T19:37:41Z'}, 'timestamp': 1648831442395}})"
     ]
    }
   ],
   "source": [
    "dataNumbers = [10, 20, 30, 40, 50, 60, 70, 80]\n",
    "\n",
    "for n in dataNumbers:\n",
    "    for i in range(1, 6):\n",
    "        readLocation = \"JavaData\\\\Data_{n}\\\\Data_{n}_{i}.csv\"\n",
    "        readLocation = readLocation.format(n = n, i = i)\n",
    "\n",
    "        writeFolder = \"JavaData\\\\Data_{n}\"\n",
    "        writeFolder = writeFolder.format(n = n)\n",
    "\n",
    "        writeLocation = \"JavaData\\\\Data_{n}\\\\Data_{n}_{i}_DistanceMatrix.csv\"\n",
    "        writeLocation = writeLocation.format(n = n, i = i)\n",
    "\n",
    "        generateDistanceMatrix(readLocation, writeFolder, writeLocation)"
   ]
  }
 ],
 "metadata": {
  "kernelspec": {
   "display_name": "Python 3 (ipykernel)",
   "language": "python",
   "name": "python3"
  },
  "language_info": {
   "codemirror_mode": {
    "name": "ipython",
    "version": 3
   },
   "file_extension": ".py",
   "mimetype": "text/x-python",
   "name": "python",
   "nbconvert_exporter": "python",
   "pygments_lexer": "ipython3",
   "version": "3.8.8"
  }
 },
 "nbformat": 4,
 "nbformat_minor": 5
}
